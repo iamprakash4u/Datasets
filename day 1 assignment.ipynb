{
 "cells": [
  {
   "cell_type": "code",
   "execution_count": 1,
   "metadata": {},
   "outputs": [
    {
     "name": "stdout",
     "output_type": "stream",
     "text": [
      "e t n : 3\n",
      "square root is :  1.7320508075688772\n"
     ]
    }
   ],
   "source": [
    "# Write a program find square root of a number\n",
    "\n",
    "n=int(input(\"e t n : \"))\n",
    "a = n / 2\n",
    "b=0\n",
    "while (b - a) != 0:\n",
    "    b = a\n",
    "    a = (b + (n / b)) / 2\n",
    "print('square root is : ',a)\n"
   ]
  },
  {
   "cell_type": "code",
   "execution_count": 2,
   "metadata": {},
   "outputs": [
    {
     "name": "stdout",
     "output_type": "stream",
     "text": [
      "Enter the height of the triangle : 45\n",
      "Enter the base of the triangle : 25\n",
      "562.5\n"
     ]
    }
   ],
   "source": [
    "# Python Program to find the area of triangle\n",
    "\n",
    "h = int(input(\"Enter the height of the triangle : \"))\n",
    "b = int(input(\"Enter the base of the triangle : \"))\n",
    "area = (h*b)/2\n",
    "print(area)"
   ]
  },
  {
   "cell_type": "code",
   "execution_count": 3,
   "metadata": {},
   "outputs": [
    {
     "name": "stdout",
     "output_type": "stream",
     "text": [
      "Enter the first number : 5\n",
      "Enter the second number : 4\n",
      "4 5\n"
     ]
    }
   ],
   "source": [
    "# Python program to swap two variables provided by the user without temporary variable\n",
    "\n",
    "f = int(input(\"Enter the first number : \"))\n",
    "s = int(input(\"Enter the second number : \"))\n",
    "\n",
    "s = f + s\n",
    "f = s - f\n",
    "s = s - f\n",
    "print (f,s )\n"
   ]
  },
  {
   "cell_type": "code",
   "execution_count": 4,
   "metadata": {},
   "outputs": [
    {
     "name": "stdout",
     "output_type": "stream",
     "text": [
      "Enter the year : 2000\n",
      "2000  is a leap year\n"
     ]
    }
   ],
   "source": [
    "# Python program to check if the input year is a leap year or not\n",
    "year = int(input(\"Enter the year : \"))\n",
    "if (year % 4) == 0:\n",
    "    if (year % 100) == 0:\n",
    "        if (year % 400) == 0:\n",
    "            print(year ,\" is a leap year\")\n",
    "        else:\n",
    "            print(year ,\" is no leap year\")\n",
    "    else:\n",
    "        print(year ,\" is a leap year\")\n",
    "else:\n",
    "    print(year ,\" is not leap year\")"
   ]
  },
  {
   "cell_type": "code",
   "execution_count": 5,
   "metadata": {},
   "outputs": [
    {
     "name": "stdout",
     "output_type": "stream",
     "text": [
      "How many terms? 5\n",
      "Fibonacci sequence:\n",
      "0\n",
      "1\n",
      "1\n",
      "2\n",
      "3\n"
     ]
    }
   ],
   "source": [
    "# Program to display the Fibonacci sequence up to n-th term where n is provided by the user\n",
    "\n",
    "def recur_fibo(n): \n",
    "    if n <= 1:\n",
    "        return n \n",
    "    else:  \n",
    "        return(recur_fibo(n-1) + recur_fibo(n-2)) \n",
    "    \n",
    "nterms = int(input(\"How many terms? \"))  \n",
    " \n",
    "if nterms <= 0:  \n",
    "    print(\"Plese enter a positive integer\")  \n",
    "else:  \n",
    "    print(\"Fibonacci sequence:\")  \n",
    "    for i in range(nterms):  \n",
    "        print(recur_fibo(i)) "
   ]
  },
  {
   "cell_type": "code",
   "execution_count": 6,
   "metadata": {},
   "outputs": [
    {
     "name": "stdout",
     "output_type": "stream",
     "text": [
      "Enter the number : 153\n",
      "Number is Armstrong\n"
     ]
    }
   ],
   "source": [
    "print(\"Enter the number : \", end='')\n",
    "num = int(input())\n",
    "b=0\n",
    "temp = num\n",
    "while num>0:\n",
    "    a=num%10    \n",
    "    b=b+a**len(str(temp))   \n",
    "    num = num//10\n",
    "if temp==b:\n",
    "    print(\"Number is Armstrong\")\n",
    "else :\n",
    "    print(\"not Armstrong\")"
   ]
  },
  {
   "cell_type": "code",
   "execution_count": 7,
   "metadata": {},
   "outputs": [
    {
     "name": "stdout",
     "output_type": "stream",
     "text": [
      "Enter the number : 5\n",
      "[1, 2, 4, 8, 16]\n"
     ]
    }
   ],
   "source": [
    "# Python Program to display the powers of 2 using anonymous function\n",
    "\n",
    "print(\"Enter the number : \", end='')\n",
    "num = int(input())\n",
    "b = []\n",
    "for i in (range(0,num)):\n",
    "    a= 2**i\n",
    "    b.append(a)\n",
    "print(b)\n"
   ]
  }
 ],
 "metadata": {
  "kernelspec": {
   "display_name": "Python 3",
   "language": "python",
   "name": "python3"
  },
  "language_info": {
   "codemirror_mode": {
    "name": "ipython",
    "version": 3
   },
   "file_extension": ".py",
   "mimetype": "text/x-python",
   "name": "python",
   "nbconvert_exporter": "python",
   "pygments_lexer": "ipython3",
   "version": "3.6.4"
  }
 },
 "nbformat": 4,
 "nbformat_minor": 2
}
